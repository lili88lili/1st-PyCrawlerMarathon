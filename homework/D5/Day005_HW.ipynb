{
 "cells": [
  {
   "cell_type": "markdown",
   "metadata": {},
   "source": [
    "# API 資料串接 - 以 Dcard API 實作範例\n",
    "\n",
    "* 了解 Dcard API 使用方式與回傳內容\n",
    "* 撰寫程式存取 API 且解析 JSON 格式資料\n"
   ]
  },
  {
   "cell_type": "markdown",
   "metadata": {},
   "source": [
    "## 作業目標\n",
    "\n",
    "* 請利用 API: https://www.dcard.tw/_api/forums/pet/posts?popular=true 回答下列問題：\n",
    "\n",
    "1. 這個 API 一次會回傳幾筆資料？每一筆資料包含哪些欄位？\n",
    "2. 取出每一筆資料的「標題」、「貼文時間」、「留言人數」、「按讚人數」\n",
    "3. 計算熱門/非熱門文章的「平均留言人數」與「平均按讚人數」"
   ]
  },
  {
   "cell_type": "markdown",
   "metadata": {},
   "source": [
    "# 1. 這個 API 一次會回傳幾筆資料？每一筆資料包含哪些欄位？\n",
    "\n",
    "'''\n",
    "Your Code\n",
    "'''"
   ]
  },
  {
   "cell_type": "code",
   "execution_count": 1,
   "metadata": {},
   "outputs": [
    {
     "name": "stdout",
     "output_type": "stream",
     "text": [
      "API 一次會回傳  30  幾筆資料\n",
      "欄位 : dict_keys(['id', 'title', 'excerpt', 'anonymousSchool', 'anonymousDepartment', 'pinned', 'forumId', 'replyId', 'createdAt', 'updatedAt', 'commentCount', 'likeCount', 'withNickname', 'tags', 'topics', 'meta', 'forumName', 'forumAlias', 'gender', 'school', 'replyTitle', 'mediaMeta', 'reactions', 'hidden', 'customStyle', 'isSuspiciousAccount', 'layout', 'withImages', 'withVideos', 'media', 'reportReasonText', 'postAvatar'])\n"
     ]
    }
   ],
   "source": [
    "import requests\n",
    "r = requests.get('https://www.dcard.tw/_api/forums/pet/posts?popular=true')\n",
    "response = r.text\n",
    "\n",
    "#response\n",
    "\n",
    "import json\n",
    "data = json.loads(response)\n",
    "print(\"API 一次會回傳 \",len(data),\" 幾筆資料\")\n",
    "print(\"欄位 :\",data[0].keys())"
   ]
  },
  {
   "cell_type": "markdown",
   "metadata": {},
   "source": [
    "# 2. 取出每一筆資料的「標題」、「貼文時間」、「留言人數」、「按讚人數」\n",
    "\n",
    "'''\n",
    "Your Code\n",
    "'''"
   ]
  },
  {
   "cell_type": "code",
   "execution_count": 2,
   "metadata": {},
   "outputs": [
    {
     "name": "stdout",
     "output_type": "stream",
     "text": [
      "標題  0  :  #圖多 我家的玩偶狗\n",
      "貼文時間 :  2019-12-05T12:59:56.563Z\n",
      "留言人數 :  134\n",
      "按讚人數 :  3706\n",
      "標題  1  :  拜託🙏走失協尋😭我的兩隻寶貝⋯\n",
      "貼文時間 :  2019-12-05T11:37:33.580Z\n",
      "留言人數 :  131\n",
      "按讚人數 :  2075\n",
      "標題  2  :  小貓認養*更新暫時有人認養了\n",
      "貼文時間 :  2019-12-05T13:11:02.235Z\n",
      "留言人數 :  31\n",
      "按讚人數 :  600\n",
      "標題  3  :  ＃過敏兒集合 ✨淨化空氣の神器 F101空氣清淨機✨ 拯救鼻子的好幫手\n",
      "貼文時間 :  2019-12-04T07:25:45.039Z\n",
      "留言人數 :  8\n",
      "按讚人數 :  563\n",
      "標題  4  :  同學你的貓貓被通緝了~\n",
      "貼文時間 :  2019-12-04T09:47:17.828Z\n",
      "留言人數 :  40\n",
      "按讚人數 :  384\n",
      "標題  5  :  你真的是喵咪嗎ಥ_ಥ\n",
      "貼文時間 :  2019-12-04T14:05:18.397Z\n",
      "留言人數 :  14\n",
      "按讚人數 :  108\n",
      "標題  6  :  拜託，冬天別來好嗎....\n",
      "貼文時間 :  2019-12-04T12:13:49.223Z\n",
      "留言人數 :  8\n",
      "按讚人數 :  96\n",
      "標題  7  :  內有惡貓\n",
      "貼文時間 :  2019-12-04T05:48:37.632Z\n",
      "留言人數 :  11\n",
      "按讚人數 :  71\n",
      "標題  8  :  #圖多  辦公室黑貓 歐嚕嚕\n",
      "貼文時間 :  2019-12-04T07:29:13.824Z\n",
      "留言人數 :  11\n",
      "按讚人數 :  60\n",
      "標題  9  :  你是要我睡哪裡\n",
      "貼文時間 :  2019-12-05T05:31:34.760Z\n",
      "留言人數 :  4\n",
      "按讚人數 :  52\n",
      "標題  10  :  #貓 是俊榮！！\n",
      "貼文時間 :  2019-12-05T07:58:20.451Z\n",
      "留言人數 :  1\n",
      "按讚人數 :  39\n",
      "標題  11  :  穿雨衣怎麼那麼呆\n",
      "貼文時間 :  2019-12-04T14:57:29.124Z\n",
      "留言人數 :  5\n",
      "按讚人數 :  35\n",
      "標題  12  :  協尋😭😭😭\n",
      "貼文時間 :  2019-12-04T16:13:48.453Z\n",
      "留言人數 :  2\n",
      "按讚人數 :  32\n",
      "標題  13  :  你們有看到我的兔兔嗎？#圖多\n",
      "貼文時間 :  2019-12-05T09:10:35.546Z\n",
      "留言人數 :  1\n",
      "按讚人數 :  31\n",
      "標題  14  :  厭世的卡納胖拉\n",
      "貼文時間 :  2019-12-05T06:37:47.406Z\n",
      "留言人數 :  2\n",
      "按讚人數 :  30\n",
      "標題  15  :  老闆請給我來十斤！\n",
      "貼文時間 :  2019-12-04T09:46:34.362Z\n",
      "留言人數 :  0\n",
      "按讚人數 :  24\n",
      "標題  16  :  照騙\n",
      "貼文時間 :  2019-12-04T12:07:07.849Z\n",
      "留言人數 :  0\n",
      "按讚人數 :  22\n",
      "標題  17  :  懇請台中人/讓皮皮回家\n",
      "貼文時間 :  2019-12-04T09:35:17.074Z\n",
      "留言人數 :  5\n",
      "按讚人數 :  18\n",
      "標題  18  :  蓋個瑪爾濟一、濟二、濟三、瑪爾濟斯樓\n",
      "貼文時間 :  2019-12-05T05:06:06.855Z\n",
      "留言人數 :  14\n",
      "按讚人數 :  17\n",
      "標題  19  :  貓🐱\n",
      "貼文時間 :  2019-12-04T19:22:30.430Z\n",
      "留言人數 :  2\n",
      "按讚人數 :  15\n",
      "標題  20  :  天冷了 臉更黑的滿芙\n",
      "貼文時間 :  2019-12-04T13:49:17.911Z\n",
      "留言人數 :  4\n",
      "按讚人數 :  14\n",
      "標題  21  :  柴柴\n",
      "貼文時間 :  2019-12-04T14:20:55.506Z\n",
      "留言人數 :  4\n",
      "按讚人數 :  13\n",
      "標題  22  :  我在日本養了一隻小偷貓\n",
      "貼文時間 :  2019-12-04T13:50:18.656Z\n",
      "留言人數 :  0\n",
      "按讚人數 :  13\n",
      "標題  23  :  打哈欠\n",
      "貼文時間 :  2019-12-05T10:51:42.646Z\n",
      "留言人數 :  1\n",
      "按讚人數 :  11\n",
      "標題  24  :  我是yoyo施米達🐾\n",
      "貼文時間 :  2019-12-05T09:08:47.515Z\n",
      "留言人數 :  0\n",
      "按讚人數 :  11\n",
      "標題  25  :  協尋我家狗狗😭\n",
      "貼文時間 :  2019-12-05T12:29:36.962Z\n",
      "留言人數 :  0\n",
      "按讚人數 :  11\n",
      "標題  26  :  你的貓太可愛啦！！！\n",
      "貼文時間 :  2019-12-05T10:05:57.375Z\n",
      "留言人數 :  0\n",
      "按讚人數 :  9\n",
      "標題  27  :  不少人跪求當我的狗^.^\n",
      "貼文時間 :  2019-12-04T11:27:29.920Z\n",
      "留言人數 :  6\n",
      "按讚人數 :  9\n",
      "標題  28  :  你其實是兔子吧\n",
      "貼文時間 :  2019-12-05T13:38:05.244Z\n",
      "留言人數 :  1\n",
      "按讚人數 :  8\n",
      "標題  29  :  充滿貓咪的沙龍\n",
      "貼文時間 :  2019-12-04T10:04:00.365Z\n",
      "留言人數 :  1\n",
      "按讚人數 :  7\n"
     ]
    }
   ],
   "source": [
    "import json\n",
    "data = json.loads(response)\n",
    "n=0\n",
    "for d in data:\n",
    "    print(\"標題 \",n,\" : \",d['title'])\n",
    "    print(\"貼文時間 : \",d['updatedAt'])\n",
    "    print(\"留言人數 : \",d['commentCount'])\n",
    "    print(\"按讚人數 : \",d['likeCount'])\n",
    "    n+=1\n"
   ]
  },
  {
   "cell_type": "markdown",
   "metadata": {},
   "source": [
    "# 3. 計算熱門/非熱門文章的「平均留言人數」與「平均按讚人數」\n",
    "\n",
    "'''\n",
    "Your Code\n",
    "'''"
   ]
  },
  {
   "cell_type": "code",
   "execution_count": 3,
   "metadata": {},
   "outputs": [
    {
     "name": "stdout",
     "output_type": "stream",
     "text": [
      "熱門文章的「平均留言人數 :  14.7\n",
      "熱門文章的「平均按讚人數 :  269.46666666666664\n"
     ]
    }
   ],
   "source": [
    "sum_commentCount=0\n",
    "sum_likeCount=0\n",
    "for d in data:\n",
    "    sum_commentCount+=d['commentCount']\n",
    "    sum_likeCount+=d[\"likeCount\"]\n",
    "print(\"熱門文章的「平均留言人數 : \",sum_commentCount/len(data)) \n",
    "print(\"熱門文章的「平均按讚人數 : \",sum_likeCount/len(data)) "
   ]
  },
  {
   "cell_type": "code",
   "execution_count": 4,
   "metadata": {},
   "outputs": [
    {
     "name": "stdout",
     "output_type": "stream",
     "text": [
      "熱門文章的「平均留言人數 :  1.4666666666666666\n",
      "熱門文章的「平均按讚人數 :  6.8\n"
     ]
    }
   ],
   "source": [
    "r = requests.get('https://www.dcard.tw/_api/forums/pet/posts?popular=false')\n",
    "response_false = r.text\n",
    "\n",
    "import json\n",
    "data_false = json.loads(response_false)\n",
    "\n",
    "sum_commentCount=0\n",
    "sum_likeCount=0\n",
    "for d in data_false:\n",
    "    sum_commentCount+=d['commentCount']\n",
    "    sum_likeCount+=d[\"likeCount\"]\n",
    "print(\"熱門文章的「平均留言人數 : \",sum_commentCount/len(data)) \n",
    "print(\"熱門文章的「平均按讚人數 : \",sum_likeCount/len(data)) "
   ]
  },
  {
   "cell_type": "code",
   "execution_count": null,
   "metadata": {},
   "outputs": [],
   "source": []
  }
 ],
 "metadata": {
  "kernelspec": {
   "display_name": "Python 3",
   "language": "python",
   "name": "python3"
  },
  "language_info": {
   "codemirror_mode": {
    "name": "ipython",
    "version": 3
   },
   "file_extension": ".py",
   "mimetype": "text/x-python",
   "name": "python",
   "nbconvert_exporter": "python",
   "pygments_lexer": "ipython3",
   "version": "3.6.5"
  }
 },
 "nbformat": 4,
 "nbformat_minor": 2
}
